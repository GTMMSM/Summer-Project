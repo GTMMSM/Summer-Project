{
 "cells": [
  {
   "cell_type": "raw",
   "id": "fa2375c7-71bb-41c9-8f7f-61a2cca6466d",
   "metadata": {},
   "source": [
    "🧩 Part 1: Simulating Friendships"
   ]
  },
  {
   "cell_type": "code",
   "execution_count": 1,
   "id": "1b9abfd5-4a44-462f-8f72-9adeedc11a02",
   "metadata": {},
   "outputs": [],
   "source": [
    "import random\n",
    "import math"
   ]
  },
  {
   "cell_type": "raw",
   "id": "db8266a2-1a72-4a08-958d-07246803094f",
   "metadata": {},
   "source": [
    "I've labeled as number from 0 to 999, which are divided in 10 classes in a way that student from 0 to 99 falls in 1st class, from 100 to 199 in 2nd class.. and so on."
   ]
  },
  {
   "cell_type": "code",
   "execution_count": 2,
   "id": "a4ba5d5c-1cd7-4d73-b1a6-f235323c54b3",
   "metadata": {},
   "outputs": [],
   "source": [
    "total_students = 1000\n",
    "total_class = 10\n",
    "max_friends = 15"
   ]
  },
  {
   "cell_type": "raw",
   "id": "34a571fd-81d6-47bf-86e8-00acb832980b",
   "metadata": {},
   "source": [
    "For simulating friendship, every student has a popularity index which is a measure of how much popular a student is. This index is generated randomly and is a floating point number in range [0, 1). Now ceil of popularity * 15 (assumed a student has maximum 15 friends) is number of friends of a student. Now 3/4th of this is number of students from class and remaining friends are from outside of the class and both of them are choosen randomly. Dictionary friends denotes connection, weight pair."
   ]
  },
  {
   "cell_type": "code",
   "execution_count": 3,
   "id": "af44ca93-6d97-4b5f-ab4d-3d032b68df78",
   "metadata": {},
   "outputs": [],
   "source": [
    "# *** student data ***\n",
    "students = []    # list of dictionary containing id, class, popularity index, and set of friends\n",
    "for i in range(total_students):\n",
    "    students.append({\n",
    "        'ID': i,\n",
    "        'class': i // (total_students // total_class),\n",
    "        'popularity': random.random(),\n",
    "        'friends': {}\n",
    "    })"
   ]
  },
  {
   "cell_type": "code",
   "execution_count": 5,
   "id": "a0b2b758-8d35-4560-9210-cb90cf152dfc",
   "metadata": {},
   "outputs": [],
   "source": [
    "# *** simulating friendship ***\n",
    "for student in students:\n",
    "    total_friends = math.floor(student['popularity'] * max_friends)\n",
    "    class_friends = int((3/4) * total_friends)\n",
    "    other_friends = total_friends - class_friends\n",
    "    \n",
    "    class_index = student['class']\n",
    "    class_start = class_index * (total_students // total_class)\n",
    "    class_end = class_start + (total_students // total_class)\n",
    "\n",
    "    # Classmates\n",
    "    classmates = list(range(class_start, student['ID'])) + list(range(student['ID'] + 1, class_end))    # excluding self\n",
    "    classmate_friends = random.sample(classmates, class_friends)\n",
    "\n",
    "    # Non-classmates\n",
    "    non_classmate_ids = list(range(0, class_start)) + list(range(class_end, total_students))\n",
    "    chosen_other_ids = random.sample(non_classmate_ids, other_friends)\n",
    "  \n",
    "    for friend_id in classmate_friends + chosen_other_ids:\n",
    "        student['friends'][friend_id] = random.randint(1, 10) # Since friendship is mutual i.e. if A is friend of B then B is also friend of A\n",
    "        students[friend_id]['friends'][student['ID']] = random.randint(1, 10)"
   ]
  },
  {
   "cell_type": "raw",
   "id": "aca742b6-89fd-48b1-a53e-bc0b1905a337",
   "metadata": {},
   "source": [
    "🔍 Part 2: Analyzing Friend Groups\n",
    "For finding number of groups we simply have to apply DFS in the graph to finding the number of connected components."
   ]
  },
  {
   "cell_type": "code",
   "execution_count": 8,
   "id": "76f924e3-3394-4a2e-963b-18ba150acc19",
   "metadata": {},
   "outputs": [
    {
     "name": "stdout",
     "output_type": "stream",
     "text": [
      "Total number of groups: 1\n",
      "Size of smallest group: 1000\n",
      "Size of largest group: 1000\n"
     ]
    }
   ],
   "source": [
    "visited = set()\n",
    "components = 0\n",
    "group_sizes = []\n",
    "\n",
    "for student in students:\n",
    "    if student['ID'] not in visited:\n",
    "        stack = [student['ID']]\n",
    "        size = 0\n",
    "        while stack:\n",
    "            current = stack.pop()\n",
    "            if current not in visited:\n",
    "                visited.add(current)\n",
    "                size += 1\n",
    "                stack.extend(friend_id for friend_id in students[current]['friends'] if friend_id not in visited)\n",
    "        group_sizes.append(size)\n",
    "        components += 1\n",
    "\n",
    "print(\"Total number of groups:\", components)\n",
    "print(\"Size of smallest group:\", min(group_sizes))\n",
    "print(\"Size of largest group:\", max(group_sizes))"
   ]
  },
  {
   "cell_type": "code",
   "execution_count": null,
   "id": "736f4388-4699-4922-9c3e-65b50fb727fa",
   "metadata": {},
   "outputs": [],
   "source": []
  },
  {
   "cell_type": "code",
   "execution_count": null,
   "id": "8b14a4c4-90f6-461f-ad09-ecedfabd6d17",
   "metadata": {},
   "outputs": [],
   "source": []
  },
  {
   "cell_type": "code",
   "execution_count": null,
   "id": "2e9c1cab-e6fd-4dfc-b148-705e1447c546",
   "metadata": {},
   "outputs": [],
   "source": []
  }
 ],
 "metadata": {
  "kernelspec": {
   "display_name": "Python 3 (ipykernel)",
   "language": "python",
   "name": "python3"
  },
  "language_info": {
   "codemirror_mode": {
    "name": "ipython",
    "version": 3
   },
   "file_extension": ".py",
   "mimetype": "text/x-python",
   "name": "python",
   "nbconvert_exporter": "python",
   "pygments_lexer": "ipython3",
   "version": "3.12.7"
  }
 },
 "nbformat": 4,
 "nbformat_minor": 5
}
