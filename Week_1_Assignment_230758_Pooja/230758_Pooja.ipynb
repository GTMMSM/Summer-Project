{
 "cells": [
  {
   "cell_type": "markdown",
   "id": "53db1d70",
   "metadata": {},
   "source": [
    "# Graph-Based Modeling of a School Social Network\n"
   ]
  },
  {
   "cell_type": "markdown",
   "id": "8f1f4d2b",
   "metadata": {},
   "source": [
    "## Assignment 1"
   ]
  },
  {
   "cell_type": "markdown",
   "id": "56281a98",
   "metadata": {},
   "source": [
    "### Part 1: Build the Friendship Network"
   ]
  },
  {
   "cell_type": "code",
   "execution_count": 1,
   "id": "f954d418",
   "metadata": {},
   "outputs": [],
   "source": [
    "import random\n",
    "import heapq\n",
    "from collections import defaultdict\n",
    "\n",
    "# ---------- Part 1: Generate Friendship Graph ----------\n",
    "def generate_graph(num_students, num_classes=3):\n",
    "    graph = defaultdict(list)\n",
    "\n",
    "    # Assign each student to a class\n",
    "    class_map = {i: i % num_classes for i in range(num_students)}\n",
    "\n",
    "    # Assign popularity score to each student (higher = more likely to make friends)\n",
    "    popularity = {i: random.randint(1, 5) for i in range(num_students)}  # 1 to 5\n",
    "\n",
    "    # Initial friendship generation with bias\n",
    "    for i in range(num_students):\n",
    "        for j in range(i + 1, num_students):\n",
    "            # Base probability\n",
    "            p = 0.1\n",
    "\n",
    "            # Intra-class: increase chance\n",
    "            if class_map[i] == class_map[j]:\n",
    "                p += 0.3\n",
    "\n",
    "            # More popular students make more connections\n",
    "            p += 0.05 * popularity[i]\n",
    "\n",
    "            # Make connection?\n",
    "            if random.random() < p:\n",
    "                weight = random.randint(1, 10)\n",
    "                graph[i].append((j, weight))\n",
    "                graph[j].append((i, weight))\n",
    "\n",
    "    # Add clustering: friends-of-friends more likely to connect\n",
    "    for student in range(num_students):\n",
    "        direct_friends = [n for n, _ in graph[student]]\n",
    "        for friend in direct_friends:\n",
    "            for ff, _ in graph[friend]:\n",
    "                if ff != student:\n",
    "                    already_friends = any(n == ff for n, _ in graph[student])\n",
    "                    if not already_friends and random.random() < 0.2:\n",
    "                        weight = random.randint(1, 10)\n",
    "                        graph[student].append((ff, weight))\n",
    "                        graph[ff].append((student, weight))\n",
    "\n",
    "    return graph, class_map"
   ]
  },
  {
   "cell_type": "markdown",
   "id": "7468f0d2",
   "metadata": {},
   "source": [
    "### Part 2: Analyze Friend Groups"
   ]
  },
  {
   "cell_type": "code",
   "execution_count": 2,
   "id": "79f5b164",
   "metadata": {},
   "outputs": [],
   "source": [
    "# ---------- Part 2: DFS and Group Analysis ----------\n",
    "def dfs(graph, start, visited):\n",
    "    stack = [start]\n",
    "    group = []\n",
    "    while stack:\n",
    "        node = stack.pop()\n",
    "        if not visited[node]:\n",
    "            visited[node] = True\n",
    "            group.append(node)\n",
    "            for neighbor, _ in graph[node]:\n",
    "                stack.append(neighbor)\n",
    "    return group\n",
    "\n",
    "def analyze_components(graph, num_nodes):\n",
    "    visited = {}\n",
    "    components = []\n",
    "\n",
    "    for node in graph:\n",
    "        visited[node] = False\n",
    "\n",
    "    for node in graph:\n",
    "        if not visited[node]:\n",
    "            group = dfs(graph, node, visited)\n",
    "            components.append(group)\n",
    "\n",
    "    sizes = [len(c) for c in components]\n",
    "    return components, min(sizes) if sizes else 0, max(sizes) if sizes else 0"
   ]
  },
  {
   "cell_type": "markdown",
   "id": "80e8c3ab",
   "metadata": {},
   "source": [
    "### Part 3: Find Closest Friendship Paths"
   ]
  },
  {
   "cell_type": "code",
   "execution_count": 3,
   "id": "9ffa59b6",
   "metadata": {},
   "outputs": [],
   "source": [
    "# ---------- Part 3: Dijkstra and A* ----------\n",
    "def dijkstra(graph, start, end):\n",
    "    heap = [(0, start, [])]\n",
    "    visited = set()\n",
    "\n",
    "    while heap:\n",
    "        cost, node, path = heapq.heappop(heap)\n",
    "        if node in visited:\n",
    "            continue\n",
    "        path = path + [node]\n",
    "        if node == end:\n",
    "            return path, cost\n",
    "        visited.add(node)\n",
    "        for neighbor, weight in graph[node]:\n",
    "            if neighbor not in visited:\n",
    "                heapq.heappush(heap, (cost + weight, neighbor, path))\n",
    "    return None, float('inf')\n",
    "\n",
    "def a_star(graph, start, end, class_map):\n",
    "    heap = [(0, 0, start, [])]\n",
    "    visited = set()\n",
    "\n",
    "    while heap:\n",
    "        est, cost, node, path = heapq.heappop(heap)\n",
    "        if node in visited:\n",
    "            continue\n",
    "        path = path + [node]\n",
    "        if node == end:\n",
    "            return path, cost\n",
    "        visited.add(node)\n",
    "        for neighbor, weight in graph[node]:\n",
    "            if neighbor not in visited:\n",
    "                h = 0 if class_map[neighbor] == class_map[end] else 5\n",
    "                heapq.heappush(heap, (cost + weight + h, cost + weight, neighbor, path))\n",
    "    return None, float('inf')"
   ]
  },
  {
   "cell_type": "markdown",
   "id": "0b1d33a3",
   "metadata": {},
   "source": [
    "### Bonus: Detect Social Bridges"
   ]
  },
  {
   "cell_type": "code",
   "execution_count": 4,
   "id": "1e44f30c",
   "metadata": {},
   "outputs": [],
   "source": [
    "# ---------- Bonus: Bridge Detection ----------\n",
    "def find_bridges(graph, num_nodes):\n",
    "    original_components, _, _ = analyze_components(graph, num_nodes)\n",
    "    bridge_nodes = []\n",
    "\n",
    "    for node in range(num_nodes):\n",
    "        # Deep copy and remove node\n",
    "        modified_graph = defaultdict(list)\n",
    "        for k, v in graph.items():\n",
    "            if k == node:\n",
    "                continue\n",
    "            modified_graph[k] = [(n, w) for n, w in v if n != node]\n",
    "\n",
    "        components, _, _ = analyze_components(modified_graph, num_nodes)\n",
    "        if len(components) > len(original_components):\n",
    "            bridge_nodes.append(node)\n",
    "\n",
    "    return bridge_nodes"
   ]
  },
  {
   "cell_type": "code",
   "execution_count": 5,
   "id": "ffaa5601",
   "metadata": {},
   "outputs": [
    {
     "name": "stdout",
     "output_type": "stream",
     "text": [
      "\n",
      "📊 Analyzing Friend Groups...\n",
      "🔹 Number of groups: 1\n",
      "🔸 Smallest group size: 150, Largest: 150\n",
      "\n",
      "🛣️ Finding Shortest Paths...\n",
      "\n",
      "87 ➡ 88\n",
      "  Dijkstra: Path=[87, 32, 88], Cost=2\n",
      "  A*:       Path=[87, 28, 88], Cost=4\n",
      "\n",
      "39 ➡ 43\n",
      "  Dijkstra: Path=[39, 47, 43], Cost=2\n",
      "  A*:       Path=[39, 4, 43], Cost=3\n",
      "\n",
      "42 ➡ 97\n",
      "  Dijkstra: Path=[42, 48, 97], Cost=2\n",
      "  A*:       Path=[42, 37, 97], Cost=3\n",
      "\n",
      "131 ➡ 76\n",
      "  Dijkstra: Path=[131, 94, 76], Cost=2\n",
      "  A*:       Path=[131, 94, 76], Cost=2\n",
      "\n",
      "59 ➡ 137\n",
      "  Dijkstra: Path=[59, 53, 137], Cost=2\n",
      "  A*:       Path=[59, 53, 137], Cost=2\n",
      "\n",
      "🌉 Detecting Bridge Nodes...\n",
      "Bridge Nodes: []\n"
     ]
    }
   ],
   "source": [
    "# ---------- Main Execution ----------\n",
    "def main():\n",
    "    num_students = 150\n",
    "    graph, class_map = generate_graph(num_students)\n",
    "\n",
    "    print(\"\\n📊 Analyzing Friend Groups...\")\n",
    "    components, smallest, largest = analyze_components(graph, num_students)\n",
    "    print(f\"🔹 Number of groups: {len(components)}\")\n",
    "    print(f\"🔸 Smallest group size: {smallest}, Largest: {largest}\")\n",
    "\n",
    "    print(\"\\n🛣️ Finding Shortest Paths...\")\n",
    "    pairs = random.sample(range(num_students), 10)\n",
    "    for i in range(0, len(pairs), 2):\n",
    "        u, v = pairs[i], pairs[i + 1]\n",
    "        path_d, cost_d = dijkstra(graph, u, v)\n",
    "        path_a, cost_a = a_star(graph, u, v, class_map)\n",
    "        print(f\"\\n{u} ➡ {v}\")\n",
    "        print(f\"  Dijkstra: Path={path_d}, Cost={cost_d}\")\n",
    "        print(f\"  A*:       Path={path_a}, Cost={cost_a}\")\n",
    "\n",
    "    print(\"\\n🌉 Detecting Bridge Nodes...\")\n",
    "    bridges = find_bridges(graph, num_students)\n",
    "    print(f\"Bridge Nodes: {bridges}\")\n",
    "\n",
    "if __name__ == \"__main__\":\n",
    "    main()\n"
   ]
  },
  {
   "cell_type": "code",
   "execution_count": null,
   "id": "7723018b",
   "metadata": {},
   "outputs": [],
   "source": []
  }
 ],
 "metadata": {
  "kernelspec": {
   "display_name": "Python 3 (ipykernel)",
   "language": "python",
   "name": "python3"
  },
  "language_info": {
   "codemirror_mode": {
    "name": "ipython",
    "version": 3
   },
   "file_extension": ".py",
   "mimetype": "text/x-python",
   "name": "python",
   "nbconvert_exporter": "python",
   "pygments_lexer": "ipython3",
   "version": "3.11.5"
  }
 },
 "nbformat": 4,
 "nbformat_minor": 5
}
