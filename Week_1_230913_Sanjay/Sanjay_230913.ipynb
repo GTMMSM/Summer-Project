{
  "cells": [
    {
      "cell_type": "code",
      "execution_count": 1,
      "metadata": {
        "id": "GVJgBwxkTAS6"
      },
      "outputs": [],
      "source": [
        "import random\n",
        "from collections import defaultdict\n",
        "\n",
        "class FriendshipNetwork:\n",
        "    def __init__(self, num_students=100, num_classes=4):\n",
        "        self.num_students = num_students\n",
        "        self.num_classes = num_classes\n",
        "        self.students = list(range(num_students))\n",
        "        self.classes = {i: [] for i in range(num_classes)}  # class_id -> list of students\n",
        "        self.class_map = {}  # student -> class_id\n",
        "        self.graph = defaultdict(list)  # adjacency list: student -> list of (friend, weight)\n",
        "\n",
        "        self._assign_classes()\n",
        "        self._generate_friendships()\n",
        "\n",
        "    def _assign_classes(self):\n",
        "        \"\"\"Assign students to classes in a round-robin manner.\"\"\"\n",
        "        random.shuffle(self.students)\n",
        "        for i, student in enumerate(self.students):\n",
        "            class_id = i % self.num_classes\n",
        "            self.classes[class_id].append(student)\n",
        "            self.class_map[student] = class_id\n",
        "\n",
        "    def _add_friendship(self, u, v, weight):\n",
        "        \"\"\"Add an undirected edge with weight between u and v.\"\"\"\n",
        "        self.graph[u].append((v, weight))\n",
        "        self.graph[v].append((u, weight))\n",
        "\n",
        "    def _generate_friendships(self):\n",
        "        \"\"\"Create friendships using probability rules for realism.\"\"\"\n",
        "        # Assign a 'popularity score' using an exponential distribution (a few are very popular)\n",
        "        popularity = [random.expovariate(1 / 2) for _ in self.students]\n",
        "        popularity = [p / max(popularity) for p in popularity]  # Normalize to 0–1\n",
        "\n",
        "        for i in self.students:\n",
        "            for j in self.students:\n",
        "                if i >= j:\n",
        "                    continue  # avoid self-loop and duplicate edges\n",
        "\n",
        "                same_class = self.class_map[i] == self.class_map[j]\n",
        "                pop_factor = (popularity[i] + popularity[j]) / 2\n",
        "\n",
        "                # base friendship probability\n",
        "                base_prob = 0.7 if same_class else 0.2\n",
        "\n",
        "                # clustering boost: increase probability if they share a mutual friend\n",
        "                neighbors_i = set(n for n, _ in self.graph[i])\n",
        "                neighbors_j = set(n for n, _ in self.graph[j])\n",
        "                if neighbors_i & neighbors_j:\n",
        "                    base_prob += 0.2\n",
        "\n",
        "                final_prob = base_prob * pop_factor\n",
        "\n",
        "                if random.random() < final_prob:\n",
        "                    weight = random.randint(1, 10)  # 1 = very close, 10 = distant friend\n",
        "                    self._add_friendship(i, j, weight)\n",
        "\n",
        "    def get_adjacency_list(self):\n",
        "        return dict(self.graph)\n",
        "\n",
        "    def print_sample(self, n=5):\n",
        "        print(f\"Showing {n} random students and their friends:\")\n",
        "        for student in random.sample(self.students, n):\n",
        "            friends = self.graph[student]\n",
        "            print(f\"Student {student} (Class {self.class_map[student]}): {[f'{f} (w={w})' for f, w in friends]}\")\n",
        "\n",
        "    def get_class_map(self):\n",
        "        return self.class_map\n"
      ]
    },
    {
      "cell_type": "markdown",
      "metadata": {
        "id": "GNtqAfvA9EeQ"
      },
      "source": [
        "Random Sample:"
      ]
    },
    {
      "cell_type": "code",
      "execution_count": 2,
      "metadata": {
        "colab": {
          "base_uri": "https://localhost:8080/"
        },
        "id": "EWWoO2rMUOeu",
        "outputId": "f3b57ceb-8ffd-41eb-a88a-83b109f5be23"
      },
      "outputs": [
        {
          "name": "stdout",
          "output_type": "stream",
          "text": [
            "Showing 5 random students and their friends:\n",
            "Student 13 (Class 0): ['99 (w=4)', '48 (w=3)', '7 (w=2)']\n",
            "Student 27 (Class 2): ['16 (w=8)', '71 (w=5)', '48 (w=10)']\n",
            "Student 21 (Class 1): ['8 (w=10)', '72 (w=9)']\n",
            "Student 60 (Class 0): ['28 (w=2)', '18 (w=2)', '31 (w=7)', '92 (w=10)', '94 (w=6)']\n",
            "Student 40 (Class 2): ['76 (w=6)']\n"
          ]
        }
      ],
      "source": [
        "if __name__ == \"__main__\":\n",
        "    net = FriendshipNetwork(num_students=100, num_classes=4)\n",
        "    net.print_sample()\n"
      ]
    },
    {
      "cell_type": "markdown",
      "metadata": {
        "id": "i4xCoE_cEa8-"
      },
      "source": [
        "Connected(using BFS):"
      ]
    },
    {
      "cell_type": "code",
      "execution_count": 3,
      "metadata": {
        "id": "SbF4jA2lz5J-"
      },
      "outputs": [],
      "source": [
        "def bfs_connected_components(graph, nodes):\n",
        "    visited = set()\n",
        "    components = []\n",
        "\n",
        "    for student in nodes:\n",
        "        if student not in visited:\n",
        "            queue = [student]\n",
        "            group = []\n",
        "\n",
        "            while queue:\n",
        "                current = queue.pop(0)\n",
        "                if current not in visited:\n",
        "                    visited.add(current)\n",
        "                    group.append(current)\n",
        "                    neighbors = [nbr for nbr, _ in graph[current]]\n",
        "                    queue.extend([n for n in neighbors if n not in visited])\n",
        "\n",
        "            components.append(group)\n",
        "\n",
        "    return components\n"
      ]
    },
    {
      "cell_type": "markdown",
      "metadata": {
        "id": "aosymqW5FbiQ"
      },
      "source": [
        "Sample Output:"
      ]
    },
    {
      "cell_type": "code",
      "execution_count": 4,
      "metadata": {
        "colab": {
          "base_uri": "https://localhost:8080/"
        },
        "id": "b0f7ug47z693",
        "outputId": "dd020531-25a5-4e61-8f8b-254425ff0851"
      },
      "outputs": [
        {
          "name": "stdout",
          "output_type": "stream",
          "text": [
            "Number of friend groups: 1\n",
            "Smallest group size: 100\n",
            "Largest group size: 100\n"
          ]
        }
      ],
      "source": [
        "if __name__ == \"__main__\":\n",
        "    net = FriendshipNetwork(num_students=100, num_classes=4)\n",
        "    graph = net.get_adjacency_list()\n",
        "    students = list(range(100))\n",
        "\n",
        "    components = bfs_connected_components(graph, students)\n",
        "\n",
        "    print(f\"Number of friend groups: {len(components)}\")\n",
        "    group_sizes = [len(group) for group in components]\n",
        "    print(f\"Smallest group size: {min(group_sizes)}\")\n",
        "    print(f\"Largest group size: {max(group_sizes)}\")\n"
      ]
    },
    {
      "cell_type": "markdown",
      "metadata": {
        "id": "0ZPYIUAxGGRn"
      },
      "source": [
        "Dijkstra's shortest path:"
      ]
    },
    {
      "cell_type": "code",
      "execution_count": 5,
      "metadata": {
        "id": "UksuU4tV0DJF"
      },
      "outputs": [],
      "source": [
        "def dijkstra(graph, start, goal):\n",
        "    heap = [(0, start, [])]\n",
        "    visited = set()\n",
        "\n",
        "    while heap:\n",
        "        cost, node, path = heapq.heappop(heap)\n",
        "\n",
        "        if node in visited:\n",
        "            continue\n",
        "        visited.add(node)\n",
        "        path = path + [node]\n",
        "\n",
        "        if node == goal:\n",
        "            return cost, path\n",
        "\n",
        "        for neighbor, weight in graph[node]:\n",
        "            if neighbor not in visited:\n",
        "                heapq.heappush(heap, (cost + weight, neighbor, path))\n",
        "\n",
        "    return float('inf'), []\n"
      ]
    },
    {
      "cell_type": "markdown",
      "metadata": {
        "id": "z9BNCpMTGMEf"
      },
      "source": [
        "A*'s shortest path:"
      ]
    },
    {
      "cell_type": "code",
      "execution_count": 6,
      "metadata": {
        "id": "8l4yQgSC0XvN"
      },
      "outputs": [],
      "source": [
        "def astar(graph, start, goal, heuristic_func):\n",
        "    heap = [(0, 0, start, [])]  # f, g, node, path\n",
        "    visited = set()\n",
        "\n",
        "    while heap:\n",
        "        f, g, node, path = heapq.heappop(heap)\n",
        "\n",
        "        if node in visited:\n",
        "            continue\n",
        "        visited.add(node)\n",
        "        path = path + [node]\n",
        "\n",
        "        if node == goal:\n",
        "            return g, path\n",
        "\n",
        "        for neighbor, weight in graph[node]:\n",
        "            if neighbor not in visited:\n",
        "                h = heuristic_func(neighbor, goal)\n",
        "                heapq.heappush(heap, (g + weight + h, g + weight, neighbor, path))\n",
        "\n",
        "    return float('inf'), []\n"
      ]
    },
    {
      "cell_type": "markdown",
      "metadata": {
        "id": "M56QdyJOGigX"
      },
      "source": [
        "Calling heuristic function in A* :"
      ]
    },
    {
      "cell_type": "code",
      "execution_count": 7,
      "metadata": {
        "id": "yl8FdiFm0i4V"
      },
      "outputs": [],
      "source": [
        "def simple_class_heuristic(u, v, class_map):\n",
        "    return 0 if class_map[u] == class_map[v] else 5"
      ]
    },
    {
      "cell_type": "markdown",
      "metadata": {
        "id": "gA40N_M5HAXg"
      },
      "source": [
        "Comparison:"
      ]
    },
    {
      "cell_type": "code",
      "execution_count": 8,
      "metadata": {
        "colab": {
          "base_uri": "https://localhost:8080/"
        },
        "id": "3JF1HN2B0p-9",
        "outputId": "943a4d73-b6f1-457b-cb58-99830463bec1"
      },
      "outputs": [
        {
          "name": "stdout",
          "output_type": "stream",
          "text": [
            "Shortest Friendship Paths (Dijkstra):\n"
          ]
        },
        {
          "ename": "NameError",
          "evalue": "name 'heapq' is not defined",
          "output_type": "error",
          "traceback": [
            "\u001b[31m---------------------------------------------------------------------------\u001b[39m",
            "\u001b[31mNameError\u001b[39m                                 Traceback (most recent call last)",
            "\u001b[36mCell\u001b[39m\u001b[36m \u001b[39m\u001b[32mIn[8]\u001b[39m\u001b[32m, line 16\u001b[39m\n\u001b[32m     14\u001b[39m \u001b[38;5;28mprint\u001b[39m(\u001b[33m\"\u001b[39m\u001b[33mShortest Friendship Paths (Dijkstra):\u001b[39m\u001b[33m\"\u001b[39m)\n\u001b[32m     15\u001b[39m \u001b[38;5;28;01mfor\u001b[39;00m i, (u, v) \u001b[38;5;129;01min\u001b[39;00m \u001b[38;5;28menumerate\u001b[39m(pairs):\n\u001b[32m---> \u001b[39m\u001b[32m16\u001b[39m     cost, path = \u001b[43mdijkstra\u001b[49m\u001b[43m(\u001b[49m\u001b[43mgraph\u001b[49m\u001b[43m,\u001b[49m\u001b[43m \u001b[49m\u001b[43mu\u001b[49m\u001b[43m,\u001b[49m\u001b[43m \u001b[49m\u001b[43mv\u001b[49m\u001b[43m)\u001b[49m\n\u001b[32m     17\u001b[39m     \u001b[38;5;28mprint\u001b[39m(\u001b[33mf\u001b[39m\u001b[33m\"\u001b[39m\u001b[33mPair \u001b[39m\u001b[38;5;132;01m{\u001b[39;00mi+\u001b[32m1\u001b[39m\u001b[38;5;132;01m}\u001b[39;00m\u001b[33m: \u001b[39m\u001b[38;5;132;01m{\u001b[39;00mu\u001b[38;5;132;01m}\u001b[39;00m\u001b[33m ➝ \u001b[39m\u001b[38;5;132;01m{\u001b[39;00mv\u001b[38;5;132;01m}\u001b[39;00m\u001b[33m | Cost: \u001b[39m\u001b[38;5;132;01m{\u001b[39;00mcost\u001b[38;5;132;01m}\u001b[39;00m\u001b[33m | Path: \u001b[39m\u001b[38;5;132;01m{\u001b[39;00mpath\u001b[38;5;132;01m}\u001b[39;00m\u001b[33m\"\u001b[39m)\n\u001b[32m     19\u001b[39m \u001b[38;5;66;03m# Apply A* to one pair\u001b[39;00m\n",
            "\u001b[36mCell\u001b[39m\u001b[36m \u001b[39m\u001b[32mIn[5]\u001b[39m\u001b[32m, line 6\u001b[39m, in \u001b[36mdijkstra\u001b[39m\u001b[34m(graph, start, goal)\u001b[39m\n\u001b[32m      3\u001b[39m visited = \u001b[38;5;28mset\u001b[39m()\n\u001b[32m      5\u001b[39m \u001b[38;5;28;01mwhile\u001b[39;00m heap:\n\u001b[32m----> \u001b[39m\u001b[32m6\u001b[39m     cost, node, path = \u001b[43mheapq\u001b[49m.heappop(heap)\n\u001b[32m      8\u001b[39m     \u001b[38;5;28;01mif\u001b[39;00m node \u001b[38;5;129;01min\u001b[39;00m visited:\n\u001b[32m      9\u001b[39m         \u001b[38;5;28;01mcontinue\u001b[39;00m\n",
            "\u001b[31mNameError\u001b[39m: name 'heapq' is not defined"
          ]
        }
      ],
      "source": [
        "if __name__ == \"__main__\":\n",
        "    net = FriendshipNetwork(num_students=100, num_classes=4)\n",
        "    graph = net.get_adjacency_list()\n",
        "    class_map = net.get_class_map()\n",
        "    students = list(graph.keys())\n",
        "\n",
        "    # Select 5 random unique student pairs\n",
        "    pairs = []\n",
        "    while len(pairs) < 5:\n",
        "        a, b = random.sample(students, 2)\n",
        "        if (a, b) not in pairs and (b, a) not in pairs:\n",
        "            pairs.append((a, b))\n",
        "\n",
        "    print(\"Shortest Friendship Paths (Dijkstra):\")\n",
        "    for i, (u, v) in enumerate(pairs):\n",
        "        cost, path = dijkstra(graph, u, v)\n",
        "        print(f\"Pair {i+1}: {u} ➝ {v} | Cost: {cost} | Path: {path}\")\n",
        "\n",
        "    # Apply A* to one pair\n",
        "    u, v = pairs[0]\n",
        "    cost_astar, path_astar = astar(graph, u, v, lambda x, y: simple_class_heuristic(x, y, class_map))\n",
        "\n",
        "    print(f\"\\nA* Algorithm (Pair 1: {u} ➝ {v})\")\n",
        "    print(f\"A* Cost: {cost_astar} | Path: {path_astar}\")\n",
        "\n",
        "    cost_dijk, path_dijk = dijkstra(graph, u, v)\n",
        "    print(f\"Dijkstra Cost: {cost_dijk} | Path: {path_dijk}\")\n"
      ]
    },
    {
      "cell_type": "code",
      "execution_count": null,
      "metadata": {
        "id": "-su0IJCf0uVP"
      },
      "outputs": [],
      "source": [
        "from collections import deque\n",
        "\n",
        "def bfs_connected_components(graph, nodes):\n",
        "    visited = set()\n",
        "    components = []\n",
        "\n",
        "    for node in nodes:\n",
        "        if node not in visited:\n",
        "            component = []\n",
        "            queue = deque([node])\n",
        "            visited.add(node)\n",
        "\n",
        "            while queue:\n",
        "                current = queue.popleft()\n",
        "                component.append(current)\n",
        "\n",
        "                # Iterate neighbors\n",
        "                for neighbor, _weight in graph.get(current, []):\n",
        "                    if neighbor in nodes and neighbor not in visited:\n",
        "                        visited.add(neighbor)\n",
        "                        queue.append(neighbor)\n",
        "\n",
        "            components.append(component)\n",
        "\n",
        "    return components\n",
        "\n",
        "\n",
        "def detect_bridge_nodes(graph, students):\n",
        "    original_components = bfs_connected_components(graph, students)\n",
        "    original_count = len(original_components)\n",
        "\n",
        "    bridge_nodes = []\n",
        "\n",
        "    for student in students:\n",
        "        # Copy graph excluding the student\n",
        "        modified_graph = {\n",
        "            node: [(nbr, w) for nbr, w in nbrs if nbr != student]\n",
        "            for node, nbrs in graph.items() if node != student\n",
        "        }\n",
        "\n",
        "        # Nodes remaining after removal\n",
        "        remaining_nodes = [n for n in students if n != student]\n",
        "        new_components = bfs_connected_components(modified_graph, remaining_nodes)\n",
        "\n",
        "        if len(new_components) > original_count:\n",
        "            bridge_nodes.append(student)\n",
        "\n",
        "    return bridge_nodes\n"
      ]
    },
    {
      "cell_type": "code",
      "execution_count": null,
      "metadata": {
        "colab": {
          "base_uri": "https://localhost:8080/"
        },
        "id": "6u_qyyDA2LZB",
        "outputId": "ca1878d2-d8c0-4427-e15c-49b0620b74ae"
      },
      "outputs": [
        {
          "name": "stdout",
          "output_type": "stream",
          "text": [
            "Bridge Nodes Detected:\n",
            "[58]\n"
          ]
        }
      ],
      "source": [
        "if __name__ == \"__main__\":\n",
        "    net = FriendshipNetwork(num_students=100, num_classes=4)\n",
        "    graph = net.get_adjacency_list()\n",
        "    students = list(range(100))\n",
        "\n",
        "    bridge_nodes = detect_bridge_nodes(graph, students)\n",
        "\n",
        "    print(\"Bridge Nodes Detected:\")\n",
        "    print(bridge_nodes)\n"
      ]
    },
    {
      "cell_type": "code",
      "execution_count": null,
      "metadata": {
        "id": "BUAjxs4Z2SQ5"
      },
      "outputs": [],
      "source": []
    }
  ],
  "metadata": {
    "colab": {
      "gpuType": "T4",
      "provenance": []
    },
    "kernelspec": {
      "display_name": "Python 3",
      "name": "python3"
    },
    "language_info": {
      "codemirror_mode": {
        "name": "ipython",
        "version": 3
      },
      "file_extension": ".py",
      "mimetype": "text/x-python",
      "name": "python",
      "nbconvert_exporter": "python",
      "pygments_lexer": "ipython3",
      "version": "3.12.10"
    }
  },
  "nbformat": 4,
  "nbformat_minor": 0
}
